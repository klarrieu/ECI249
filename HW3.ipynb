{
 "cells": [
  {
   "cell_type": "markdown",
   "metadata": {},
   "source": [
    "## ECI 249 HW 3\n",
    "\n",
    "Kennth Larrieu"
   ]
  },
  {
   "cell_type": "code",
   "execution_count": null,
   "metadata": {},
   "outputs": [],
   "source": [
    "import numpy as np\n",
    "import pandas as pd\n",
    "import matplotlib.pyplot as plt\n",
    "%matplotlib inline"
   ]
  },
  {
   "cell_type": "markdown",
   "metadata": {},
   "source": [
    "### 1. Frat House Optimal Lifetime\n",
    "\n",
    "Average time between house-burnings:\n",
    "\n",
    "$$\\mathbb{E}[T] = \\sum_{t=1}^{\\infty} t \\cdot P(\\text{burns in t-th year}) = \\sum_{t=1}^{\\infty} t \\cdot (1-p)^{t-1}(p) = \\frac{p}{1-p} \\sum_{t=1}^{\\infty} t (1-p)^t = \\frac{p}{1-p} \\frac{1-p}{(p)^2} = \\frac{1}{p}$$\n",
    "\n",
    "A. fire-proof frat house: $\\mathbb{E}[T] = \\frac{1}{0} = \\infty$\n",
    "\n",
    "B. fire-resistant frat house: $\\mathbb{E}[T] = \\frac{1}{0.05} = 20 \\text{ yrs}$\n",
    "\n",
    "C. normal frat house: $\\mathbb{E}[T] = \\frac{1}{0.1} = 10 \\text{ yrs}$"
   ]
  },
  {
   "cell_type": "markdown",
   "metadata": {},
   "source": [
    "#### a. Deterministic Approach\n",
    "\n",
    "$$W = C + We^{-rT}$$\n",
    "\n",
    "$$W = \\frac{C}{1-e^{-rT}}$$\n",
    "\n",
    "$$$$"
   ]
  },
  {
   "cell_type": "code",
   "execution_count": 157,
   "metadata": {},
   "outputs": [
    {
     "name": "stdout",
     "output_type": "stream",
     "text": [
      "1000000.0\n",
      "474593.01206079795\n",
      "381224.11238051974\n"
     ]
    }
   ],
   "source": [
    "costs = [1000000, 300000, 150000]\n",
    "ps = [0, 0.05, 0.1]\n",
    "Ts = [np.inf, 20, 10]\n",
    "\n",
    "det_costs = []\n",
    "for c, p, T in zip(costs, ps, Ts):\n",
    "    evc = c/(1 - np.e**(-0.05 * T))\n",
    "    det_costs.append(round(evc, 2))"
   ]
  },
  {
   "cell_type": "markdown",
   "metadata": {},
   "source": [
    "#### b. Analytical Approach\n",
    "\n",
    "Expected Value of Cost:\n",
    "\n",
    "$$W = C + W \\sum_{t=1}^{\\infty} e^{-rt} (1-p)^{t-1}(p) = C + W \\frac{p}{1-p} \\sum_{t=1}^{\\infty} (e^{-r}(1-p))^t$$\n",
    "\n",
    "$$W = C + W \\frac{p}{1-p} \\frac{(e^{-r}(1-p))}{1-(e^{-r}(1-p))}, \\quad \\rightarrow \\quad W = \\frac{C}{\\left(1 - \\frac{p}{e^r - (1-p)}\\right)}$$"
   ]
  },
  {
   "cell_type": "code",
   "execution_count": 154,
   "metadata": {},
   "outputs": [],
   "source": [
    "analytical_costs = []\n",
    "for c, p, in zip(costs, ps):\n",
    "    evc = c/(1-p/(np.e**0.05 - (1-p)))\n",
    "    analytical_costs.append(round(evc, 2))"
   ]
  },
  {
   "cell_type": "markdown",
   "metadata": {},
   "source": [
    "#### c. Monte Carlo Approach:"
   ]
  },
  {
   "cell_type": "code",
   "execution_count": null,
   "metadata": {},
   "outputs": [],
   "source": [
    "class FratHouse:\n",
    "    def __init__(self, cost, p, runs=10**4):\n",
    "        # cost of frat house\n",
    "        self.cost = cost\n",
    "        # annual probability of fire\n",
    "        self.p = p\n",
    "        # number of years for each run\n",
    "        self.sample_size = 10**3\n",
    "        # discount rate\n",
    "        self.r = 0.05\n",
    "        # number of runs\n",
    "        self.runs = runs\n",
    "        self.mean_cost = self.mc_average()\n",
    "    \n",
    "    def monte_carlo(self):\n",
    "        run_cost = self.cost\n",
    "        samples = np.random.random(self.sample_size)\n",
    "        for t, sample in enumerate(samples):\n",
    "            if sample <= self.p:\n",
    "                run_cost += self.cost*np.e**((-self.r)*(t+1))\n",
    "        return run_cost\n",
    "    \n",
    "    def mc_average(self):\n",
    "        run_costs = []\n",
    "        for run in range(self.runs):\n",
    "            run_cost = self.monte_carlo()\n",
    "            run_costs.append(run_cost)\n",
    "        mean_cost = np.mean(run_costs)\n",
    "        return round(mean_cost, 2)\n",
    "    \n",
    "FireProof = FratHouse(1000000, 0)\n",
    "FireResistant = FratHouse(300000, 0.05)\n",
    "NormalHouse = FratHouse(150000, 0.1)"
   ]
  },
  {
   "cell_type": "code",
   "execution_count": 158,
   "metadata": {},
   "outputs": [
    {
     "data": {
      "text/html": [
       "<div>\n",
       "<table border=\"1\" class=\"dataframe\">\n",
       "  <thead>\n",
       "    <tr style=\"text-align: right;\">\n",
       "      <th></th>\n",
       "      <th>Fireproof</th>\n",
       "      <th>Fire Resistant</th>\n",
       "      <th>Normal House</th>\n",
       "    </tr>\n",
       "  </thead>\n",
       "  <tbody>\n",
       "    <tr>\n",
       "      <th>Deterministic Estimate</th>\n",
       "      <td>1000000.0</td>\n",
       "      <td>474593.01</td>\n",
       "      <td>381224.11</td>\n",
       "    </tr>\n",
       "    <tr>\n",
       "      <th>Analytical Solution</th>\n",
       "      <td>1000000.0</td>\n",
       "      <td>592562.50</td>\n",
       "      <td>442562.50</td>\n",
       "    </tr>\n",
       "    <tr>\n",
       "      <th>Monte Carlo</th>\n",
       "      <td>1000000.0</td>\n",
       "      <td>591663.16</td>\n",
       "      <td>444417.00</td>\n",
       "    </tr>\n",
       "  </tbody>\n",
       "</table>\n",
       "</div>"
      ],
      "text/plain": [
       "                        Fireproof  Fire Resistant  Normal House\n",
       "Deterministic Estimate  1000000.0       474593.01     381224.11\n",
       "Analytical Solution     1000000.0       592562.50     442562.50\n",
       "Monte Carlo             1000000.0       591663.16     444417.00"
      ]
     },
     "execution_count": 158,
     "metadata": {},
     "output_type": "execute_result"
    }
   ],
   "source": [
    "mc_costs = [FireProof.mean_cost, FireResistant.mean_cost, NormalHouse.mean_cost]\n",
    "df = pd.DataFrame([det_costs, analytical_costs, mc_costs], columns=['Fireproof', 'Fire Resistant', 'Normal House'], index=['Deterministic Estimate', 'Analytical Solution', 'Monte Carlo'])\n",
    "df"
   ]
  },
  {
   "cell_type": "markdown",
   "metadata": {},
   "source": [
    "The average costs from the Monte Carlo simulations very closely approximate the analytical solution. From the average cost for each alternative listed above, it is clear that we want our frat houses to have as little fireproofing as possible"
   ]
  },
  {
   "cell_type": "markdown",
   "metadata": {},
   "source": [
    "### 2. Filtration Units\n",
    "\n",
    "#### a. What is the probability distribution for removal after each number of filters?"
   ]
  },
  {
   "cell_type": "code",
   "execution_count": 48,
   "metadata": {},
   "outputs": [
    {
     "data": {
      "text/plain": [
       "0"
      ]
     },
     "execution_count": 48,
     "metadata": {},
     "output_type": "execute_result"
    }
   ],
   "source": [
    "c0 = np.random.lognormal(5, 3)\n",
    "\n",
    "class Filtration:\n",
    "    def __init__(self):\n",
    "        self.c0 = np.random.lognormal(mean=5, sigma=3)\n",
    "        self.samples = 10**4\n",
    "        \n",
    "    def apply_filters(self, num):\n",
    "        c = self.c0\n",
    "        for i in range(num):\n",
    "            e = min(np.random.lognormal(mean=0.9, sigma=0.05), 1)\n",
    "            c *= 1-e\n",
    "        return c\n",
    "        \n",
    "    def "
   ]
  },
  {
   "cell_type": "markdown",
   "metadata": {},
   "source": [
    "### 3. Probabilistic Peak Flood Flows\n",
    "\n",
    "$$Q = \\frac{k}{n} A R^{2/3} S^{1/2}$$\n",
    "\n",
    "$$F_N(n) = \\frac{(n-0.06)}{0.02}, \\quad 0.06 \\leq n \\leq 0.08$$\n",
    "\n",
    "$$F_Q(q) = P(\\frac{k}{N} A R^{2/3} S^{1/2} \\leq q) = P(N \\geq \\frac{k}{q} A R^{2/3} S^{1/2}) = 1 - F_N(\\frac{k}{q} A R^{2/3} S^{1/2}) = 1 - \\frac{\\frac{k}{q} A R^{2/3} S^{1/2}-0.06}{0.02} = 4 - \\frac{\\frac{k}{q} A R^{2/3} S^{1/2}}{0.02}, \\quad \\leq q \\leq$$"
   ]
  },
  {
   "cell_type": "code",
   "execution_count": 149,
   "metadata": {},
   "outputs": [
    {
     "data": {
      "text/plain": [
       "12270.362463764024"
      ]
     },
     "execution_count": 149,
     "metadata": {},
     "output_type": "execute_result"
    }
   ],
   "source": [
    "np.mean(np.random.lognormal(5, 3, size = 10000))"
   ]
  }
 ],
 "metadata": {
  "kernelspec": {
   "display_name": "Python 3",
   "language": "python",
   "name": "python3"
  },
  "language_info": {
   "codemirror_mode": {
    "name": "ipython",
    "version": 3
   },
   "file_extension": ".py",
   "mimetype": "text/x-python",
   "name": "python",
   "nbconvert_exporter": "python",
   "pygments_lexer": "ipython3",
   "version": "3.5.2"
  }
 },
 "nbformat": 4,
 "nbformat_minor": 2
}
