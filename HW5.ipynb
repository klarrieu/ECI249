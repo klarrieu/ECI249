{
 "cells": [
  {
   "cell_type": "markdown",
   "metadata": {},
   "source": [
    "## ECI 249 HW \\#5\n",
    "\n",
    "Kenneth Larrieu"
   ]
  },
  {
   "cell_type": "markdown",
   "metadata": {},
   "source": [
    "### a) Formulate this problem as an optimization problem, minimizing the net expected value cost of managing the floodplain costs and damage. \n",
    "\n",
    "The optimal floodplain management options may be found by minimizing the net expected value cost for floodplain management. The next expected value cost is:\n",
    "\n",
    "$$EVC = \\sum_{i=1}^3 c_{P_{i}} X_{P_i} + \\sum_{s=1}^{5} p(s) \\left( \\sum_{j=1}^3 c_{E_{js}} X_{E_{js}} + D_s \\right)$$\n",
    "\n",
    "where \n",
    "\n",
    "$X_{P_i}$ is the number of units used for permanent floodplain management option $P_i$\n",
    "\n",
    "$c_{P_{i}}$ is the annualized unit cost of the option\n",
    "\n",
    "$p(s)$ is the probability of flow range $s$\n",
    "\n",
    "$X_{E_{js}}$ is the number of units used for emergency floodplain management option $E_{js}$ at flow range $s$\n",
    "\n",
    "$c_{E_{js}}$ is the unit cost of that option, and\n",
    "\n",
    "$D_s$ is the damage incurred by flood s given the applied floodplain management options:\n",
    "\n",
    "$$D_s = d_{s} - \\sum_{i=1}^3 r_{P_i}X_{P_i} + \\sum_{j=1}^3 r_{E_{js}} X_{E_{js}} $$\n",
    "\n",
    "where $d_{s}$ is the damage incurred at flood $s$ in the absence of floodplain management actions\n",
    "\n",
    "Thus, we want to find the vector $X_{P_i}$ of permanent option quantities and the tensor $X_{E_{js}}$ of temporary option quantities at each discharge range which minimize $EVC$, subject to the imposed bounds on values of their elements.\n",
    "\n",
    "The restriction of damage to non-negative values can be expressed by the following set of additional constraints on the system:\n",
    "\n",
    "$$\\sum_{i=1}^3 r_{P_i}X_{P_i} + \\sum_{j=1}^3 r_{E_{js}} X_{E_{js}}  \\leq d_{s}, \\quad \\forall s$$\n",
    "\n",
    "where $r$ denotes the reduction in damage per unit $X$."
   ]
  },
  {
   "cell_type": "markdown",
   "metadata": {},
   "source": [
    "### b) Minimize the expected value cost of flood damage and control costs by selecting which permanent and short-term flood control measures should be undertaken.  Do this for both current conditions and with the upstream project.\n",
    "\n",
    "The following information is given regarding the constants for the system:\n",
    "\n",
    "![](hw5_1.jpg)\n",
    "\n",
    "![](hw5_2.jpg)\n",
    "\n",
    "The linear programming problem is then implemented with the Python library `pulp`:"
   ]
  },
  {
   "cell_type": "code",
   "execution_count": 1,
   "metadata": {
    "scrolled": false
   },
   "outputs": [
    {
     "name": "stdout",
     "output_type": "stream",
     "text": [
      "\n",
      "Model status: Optimal\n",
      "\n",
      "Objective function value: 219300.00\n",
      "\n"
     ]
    }
   ],
   "source": [
    "import pulp\n",
    "import pandas as pd\n",
    "import numpy as np\n",
    "\n",
    "\n",
    "def dot(l1, l2):\n",
    "    \"\"\"Dot product between two lists\"\"\"\n",
    "    return sum([e1 * e2 for e1, e2 in zip(l1, l2)])\n",
    "\n",
    "\n",
    "class LP:\n",
    "    def __init__(self, *args, **kwargs):\n",
    "        self.q_names = ['<5,000 cfs', '5-6,000 cfs', '6-8,000 cfs', '8-10,000 cfs', '10,000+ cfs']\n",
    "        self.q_probs = [0.8, 0.11, 0.06, 0.02, 0.01]\n",
    "        if 'upstream' in args:\n",
    "            self.q_probs = [0.9, 0.05, 0.03, 0.01, 0.01]\n",
    "        self.damage0 = [0, 2.1e6, 3e6, 4.2e6, 6e6]\n",
    "\n",
    "        self.perm_names = ['Raise Structures', 'Warning System', 'Sacrificial First Stories']\n",
    "        self.perm_costs = [10, 1, 40]\n",
    "        self.perm_lims = [1e6, 200e3, 200e3]\n",
    "        self.perm_reds = [[0, 100, 70, 60, 10], [0, 2, 3, 4, 7], [0, 100, 60, 50, 20]]\n",
    "        # self.perm_reds = [[0, 200, 90, 70, 10], [0, 3, 4, 6, 10], [0, 100, 60, 50, 20]] # test case (Jay's paper example)\n",
    "\n",
    "        self.em_names = ['Evacuate', 'Sandbagging', 'Heightened Levee Monitoring']\n",
    "        self.em_costs = [200e3, 20e3, 1]\n",
    "        # self.em_costs = [100e3, 30e3, 1] # test case (Jay's paper example)\n",
    "        self.em_lims = [1, 2, 20e3]\n",
    "        self.em_reds = [[0, 200e3, 300e3, 500e3, 1e6], [0, 1e6, 800e3, 0, 0], [0, 2, 1, 0, 0]]\n",
    "        \n",
    "        if 'costs' in kwargs.keys():\n",
    "            self.perm_costs = kwargs['costs'][:3]\n",
    "            self.em_costs = kwargs['costs'][3:]\n",
    "        \n",
    "        # make set of linear coefficients for optimization\n",
    "        # index 0-2: perm options\n",
    "        self.cs = []\n",
    "        for i in range(len(self.perm_names)):\n",
    "            c = self.perm_costs[i] - dot(self.q_probs, self.perm_reds[i])\n",
    "            self.cs.append(c)\n",
    "        # index 3-17: em options, listed primarily by q, secondarily by option\n",
    "        for q in range(len(self.q_names)):\n",
    "            for j in range(len(self.em_names)):\n",
    "                c = self.q_probs[q] * (self.em_costs[j] - self.em_reds[j][q])\n",
    "                self.cs.append(c)\n",
    "\n",
    "\n",
    "    def run_LP(self, print_out=True):\n",
    "        # initialize decision variables\n",
    "        # list of permanent variables\n",
    "        perm_vars = [pulp.LpVariable(self.perm_names[i], lowBound=0, upBound=self.perm_lims[i], cat='Integer') for i in range(len(self.perm_names))]\n",
    "        # list of dicts of emergency variables, dict for each emergency option has flow names as keys\n",
    "        em_vars = [pulp.LpVariable.dict(self.em_names[j], self.q_names, lowBound=0, upBound=self.em_lims[j], cat='Integer') for j in range(len(self.em_names))]\n",
    "        \n",
    "        # list of variables to dot with self.cs for objective function\n",
    "        self.varlist = perm_vars\n",
    "        for q in self.q_names:\n",
    "            for j in range(len(self.em_names)):\n",
    "                self.varlist.append(em_vars[j][q])\n",
    "\n",
    "        # initialize model, set to minimize objective fn\n",
    "        model = pulp.LpProblem('Optimizing Floodplain Management', pulp.LpMinimize)\n",
    "\n",
    "        # define objective function\n",
    "        model.objective += pulp.lpSum([self.cs[i] * self.varlist[i] for i in range(len(self.varlist))])\n",
    "        model.objective += dot(self.q_probs, self.damage0)\n",
    "\n",
    "        # initialize constraints\n",
    "        for q in range(1, len(self.q_names)):\n",
    "            model += pulp.lpSum([self.perm_reds[i][q] * perm_vars[i] for i in range(len(self.perm_names))]) + pulp.lpSum([self.em_reds[j][q] * em_vars[j][self.q_names[q]] for j in range(len(self.em_names))]) <= self.damage0[q]\n",
    "\n",
    "        model.solve()\n",
    "        if print_out:\n",
    "            print('\\nModel status: %s' % pulp.LpStatus[model.status])\n",
    "            print('\\nObjective function value: %.2f\\n' % pulp.value(model.objective))\n",
    "            \n",
    "        self.perm_df = pd.DataFrame({'Implemented Quantity': [perm_vars[i].value() for i in range(len(self.perm_names))]}, index=self.perm_names)\n",
    "        self.perm_df.index.name = 'Permanent Option'\n",
    "        self.em_df = pd.DataFrame(dict(zip(self.q_names, [[em_vars[j][q].value() for j in range(len(self.em_names))] for q in self.q_names])), index=self.em_names)\n",
    "        self.em_df = self.em_df[self.q_names]\n",
    "        self.em_df.index.name = 'Emergency Option'\n",
    "\n",
    "        return model\n",
    "\n",
    "\n",
    "\n",
    "lp = LP()\n",
    "model = lp.run_LP()"
   ]
  },
  {
   "cell_type": "code",
   "execution_count": 2,
   "metadata": {},
   "outputs": [
    {
     "data": {
      "text/html": [
       "<div>\n",
       "<table border=\"1\" class=\"dataframe\">\n",
       "  <thead>\n",
       "    <tr style=\"text-align: right;\">\n",
       "      <th></th>\n",
       "      <th>Implemented Quantity</th>\n",
       "    </tr>\n",
       "    <tr>\n",
       "      <th>Permanent Option</th>\n",
       "      <th></th>\n",
       "    </tr>\n",
       "  </thead>\n",
       "  <tbody>\n",
       "    <tr>\n",
       "      <th>Raise Structures</th>\n",
       "      <td>1000.0</td>\n",
       "    </tr>\n",
       "    <tr>\n",
       "      <th>Warning System</th>\n",
       "      <td>0.0</td>\n",
       "    </tr>\n",
       "    <tr>\n",
       "      <th>Sacrificial First Stories</th>\n",
       "      <td>0.0</td>\n",
       "    </tr>\n",
       "  </tbody>\n",
       "</table>\n",
       "</div>"
      ],
      "text/plain": [
       "                           Implemented Quantity\n",
       "Permanent Option                               \n",
       "Raise Structures                         1000.0\n",
       "Warning System                              0.0\n",
       "Sacrificial First Stories                   0.0"
      ]
     },
     "execution_count": 2,
     "metadata": {},
     "output_type": "execute_result"
    }
   ],
   "source": [
    "lp.perm_df"
   ]
  },
  {
   "cell_type": "code",
   "execution_count": 3,
   "metadata": {},
   "outputs": [
    {
     "data": {
      "text/html": [
       "<div>\n",
       "<table border=\"1\" class=\"dataframe\">\n",
       "  <thead>\n",
       "    <tr style=\"text-align: right;\">\n",
       "      <th></th>\n",
       "      <th>&lt;5,000 cfs</th>\n",
       "      <th>5-6,000 cfs</th>\n",
       "      <th>6-8,000 cfs</th>\n",
       "      <th>8-10,000 cfs</th>\n",
       "      <th>10,000+ cfs</th>\n",
       "    </tr>\n",
       "    <tr>\n",
       "      <th>Emergency Option</th>\n",
       "      <th></th>\n",
       "      <th></th>\n",
       "      <th></th>\n",
       "      <th></th>\n",
       "      <th></th>\n",
       "    </tr>\n",
       "  </thead>\n",
       "  <tbody>\n",
       "    <tr>\n",
       "      <th>Evacuate</th>\n",
       "      <td>0.0</td>\n",
       "      <td>0.0</td>\n",
       "      <td>1.0</td>\n",
       "      <td>1.0</td>\n",
       "      <td>1.0</td>\n",
       "    </tr>\n",
       "    <tr>\n",
       "      <th>Sandbagging</th>\n",
       "      <td>0.0</td>\n",
       "      <td>2.0</td>\n",
       "      <td>2.0</td>\n",
       "      <td>0.0</td>\n",
       "      <td>0.0</td>\n",
       "    </tr>\n",
       "    <tr>\n",
       "      <th>Heightened Levee Monitoring</th>\n",
       "      <td>0.0</td>\n",
       "      <td>0.0</td>\n",
       "      <td>0.0</td>\n",
       "      <td>0.0</td>\n",
       "      <td>0.0</td>\n",
       "    </tr>\n",
       "  </tbody>\n",
       "</table>\n",
       "</div>"
      ],
      "text/plain": [
       "                             <5,000 cfs  5-6,000 cfs  6-8,000 cfs  \\\n",
       "Emergency Option                                                    \n",
       "Evacuate                            0.0          0.0          1.0   \n",
       "Sandbagging                         0.0          2.0          2.0   \n",
       "Heightened Levee Monitoring         0.0          0.0          0.0   \n",
       "\n",
       "                             8-10,000 cfs  10,000+ cfs  \n",
       "Emergency Option                                        \n",
       "Evacuate                              1.0          1.0  \n",
       "Sandbagging                           0.0          0.0  \n",
       "Heightened Levee Monitoring           0.0          0.0  "
      ]
     },
     "execution_count": 3,
     "metadata": {},
     "output_type": "execute_result"
    }
   ],
   "source": [
    "lp.em_df"
   ]
  },
  {
   "cell_type": "markdown",
   "metadata": {},
   "source": [
    "Running the program again, this time with the upstream flood probability distribution:"
   ]
  },
  {
   "cell_type": "code",
   "execution_count": 4,
   "metadata": {},
   "outputs": [
    {
     "name": "stdout",
     "output_type": "stream",
     "text": [
      "\n",
      "Model status: Optimal\n",
      "\n",
      "Objective function value: 137200.00\n",
      "\n"
     ]
    }
   ],
   "source": [
    "lp2 = LP('upstream')\n",
    "model2 = lp2.run_LP()"
   ]
  },
  {
   "cell_type": "code",
   "execution_count": 5,
   "metadata": {},
   "outputs": [
    {
     "data": {
      "text/html": [
       "<div>\n",
       "<table border=\"1\" class=\"dataframe\">\n",
       "  <thead>\n",
       "    <tr style=\"text-align: right;\">\n",
       "      <th></th>\n",
       "      <th>Implemented Quantity</th>\n",
       "    </tr>\n",
       "    <tr>\n",
       "      <th>Permanent Option</th>\n",
       "      <th></th>\n",
       "    </tr>\n",
       "  </thead>\n",
       "  <tbody>\n",
       "    <tr>\n",
       "      <th>Raise Structures</th>\n",
       "      <td>0.0</td>\n",
       "    </tr>\n",
       "    <tr>\n",
       "      <th>Warning System</th>\n",
       "      <td>0.0</td>\n",
       "    </tr>\n",
       "    <tr>\n",
       "      <th>Sacrificial First Stories</th>\n",
       "      <td>0.0</td>\n",
       "    </tr>\n",
       "  </tbody>\n",
       "</table>\n",
       "</div>"
      ],
      "text/plain": [
       "                           Implemented Quantity\n",
       "Permanent Option                               \n",
       "Raise Structures                            0.0\n",
       "Warning System                              0.0\n",
       "Sacrificial First Stories                   0.0"
      ]
     },
     "execution_count": 5,
     "metadata": {},
     "output_type": "execute_result"
    }
   ],
   "source": [
    "lp2.perm_df"
   ]
  },
  {
   "cell_type": "code",
   "execution_count": 6,
   "metadata": {},
   "outputs": [
    {
     "data": {
      "text/html": [
       "<div>\n",
       "<table border=\"1\" class=\"dataframe\">\n",
       "  <thead>\n",
       "    <tr style=\"text-align: right;\">\n",
       "      <th></th>\n",
       "      <th>&lt;5,000 cfs</th>\n",
       "      <th>5-6,000 cfs</th>\n",
       "      <th>6-8,000 cfs</th>\n",
       "      <th>8-10,000 cfs</th>\n",
       "      <th>10,000+ cfs</th>\n",
       "    </tr>\n",
       "    <tr>\n",
       "      <th>Emergency Option</th>\n",
       "      <th></th>\n",
       "      <th></th>\n",
       "      <th></th>\n",
       "      <th></th>\n",
       "      <th></th>\n",
       "    </tr>\n",
       "  </thead>\n",
       "  <tbody>\n",
       "    <tr>\n",
       "      <th>Evacuate</th>\n",
       "      <td>0.0</td>\n",
       "      <td>0.0</td>\n",
       "      <td>1.0</td>\n",
       "      <td>1.0</td>\n",
       "      <td>1.0</td>\n",
       "    </tr>\n",
       "    <tr>\n",
       "      <th>Sandbagging</th>\n",
       "      <td>0.0</td>\n",
       "      <td>2.0</td>\n",
       "      <td>2.0</td>\n",
       "      <td>0.0</td>\n",
       "      <td>0.0</td>\n",
       "    </tr>\n",
       "    <tr>\n",
       "      <th>Heightened Levee Monitoring</th>\n",
       "      <td>0.0</td>\n",
       "      <td>20000.0</td>\n",
       "      <td>0.0</td>\n",
       "      <td>0.0</td>\n",
       "      <td>0.0</td>\n",
       "    </tr>\n",
       "  </tbody>\n",
       "</table>\n",
       "</div>"
      ],
      "text/plain": [
       "                             <5,000 cfs  5-6,000 cfs  6-8,000 cfs  \\\n",
       "Emergency Option                                                    \n",
       "Evacuate                            0.0          0.0          1.0   \n",
       "Sandbagging                         0.0          2.0          2.0   \n",
       "Heightened Levee Monitoring         0.0      20000.0          0.0   \n",
       "\n",
       "                             8-10,000 cfs  10,000+ cfs  \n",
       "Emergency Option                                        \n",
       "Evacuate                              1.0          1.0  \n",
       "Sandbagging                           0.0          0.0  \n",
       "Heightened Levee Monitoring           0.0          0.0  "
      ]
     },
     "execution_count": 6,
     "metadata": {},
     "output_type": "execute_result"
    }
   ],
   "source": [
    "lp2.em_df"
   ]
  },
  {
   "cell_type": "markdown",
   "metadata": {},
   "source": [
    "### c) What is the value of the upstream project, in terms of flood damage reduction?\n",
    "\n"
   ]
  },
  {
   "cell_type": "code",
   "execution_count": 7,
   "metadata": {},
   "outputs": [
    {
     "data": {
      "text/plain": [
       "82100.0"
      ]
     },
     "execution_count": 7,
     "metadata": {},
     "output_type": "execute_result"
    }
   ],
   "source": [
    "pulp.value(model.objective) - pulp.value(model2.objective)"
   ]
  },
  {
   "cell_type": "markdown",
   "metadata": {},
   "source": [
    "The reduction in expected cost for the upstream project is therefore $\\boxed{$82,100.}$"
   ]
  },
  {
   "cell_type": "markdown",
   "metadata": {},
   "source": [
    "### d) For each used and unused decision, what would be the range of unit costs for which these optimized decisions would not change?  Present this as a table.\n",
    "\n"
   ]
  },
  {
   "cell_type": "code",
   "execution_count": 8,
   "metadata": {
    "scrolled": true
   },
   "outputs": [
    {
     "data": {
      "text/html": [
       "<div>\n",
       "<table border=\"1\" class=\"dataframe\">\n",
       "  <thead>\n",
       "    <tr style=\"text-align: right;\">\n",
       "      <th></th>\n",
       "      <th>Default Unit Cost</th>\n",
       "      <th>Lower Bound</th>\n",
       "      <th>Upper Bound</th>\n",
       "    </tr>\n",
       "  </thead>\n",
       "  <tbody>\n",
       "    <tr>\n",
       "      <th>Raise Structures</th>\n",
       "      <td>10.0</td>\n",
       "      <td>6.0</td>\n",
       "      <td>1.100000e+01</td>\n",
       "    </tr>\n",
       "    <tr>\n",
       "      <th>Warning System</th>\n",
       "      <td>1.0</td>\n",
       "      <td>1.0</td>\n",
       "      <td>inf</td>\n",
       "    </tr>\n",
       "    <tr>\n",
       "      <th>Sacrificial First Stories</th>\n",
       "      <td>40.0</td>\n",
       "      <td>10.0</td>\n",
       "      <td>inf</td>\n",
       "    </tr>\n",
       "    <tr>\n",
       "      <th>Evacuate</th>\n",
       "      <td>200000.0</td>\n",
       "      <td>1000.0</td>\n",
       "      <td>2.990000e+05</td>\n",
       "    </tr>\n",
       "    <tr>\n",
       "      <th>Sandbagging</th>\n",
       "      <td>20000.0</td>\n",
       "      <td>100.0</td>\n",
       "      <td>4.090000e+05</td>\n",
       "    </tr>\n",
       "    <tr>\n",
       "      <th>Heightened Levee Monitoring</th>\n",
       "      <td>1.0</td>\n",
       "      <td>1.0</td>\n",
       "      <td>inf</td>\n",
       "    </tr>\n",
       "  </tbody>\n",
       "</table>\n",
       "</div>"
      ],
      "text/plain": [
       "                             Default Unit Cost  Lower Bound   Upper Bound\n",
       "Raise Structures                          10.0          6.0  1.100000e+01\n",
       "Warning System                             1.0          1.0           inf\n",
       "Sacrificial First Stories                 40.0         10.0           inf\n",
       "Evacuate                              200000.0       1000.0  2.990000e+05\n",
       "Sandbagging                            20000.0        100.0  4.090000e+05\n",
       "Heightened Levee Monitoring                1.0          1.0           inf"
      ]
     },
     "execution_count": 8,
     "metadata": {},
     "output_type": "execute_result"
    }
   ],
   "source": [
    "lower_bounds = []\n",
    "upper_bounds = []\n",
    "varlist = lp.perm_names + lp.em_names\n",
    "original_costs = lp.perm_costs + lp.em_costs\n",
    "low_check = [0] * len(original_costs)\n",
    "hi_check = [1e9 * cost for cost in original_costs]\n",
    "\n",
    "def step_size(original_val):\n",
    "    order= round(np.log10(original_val), 0) - 2\n",
    "    step = max(int(10**order), 1)\n",
    "    return step\n",
    "\n",
    "for i, var_name in enumerate(varlist):\n",
    "    costs_l = original_costs[:]\n",
    "    costs_u = original_costs[:]\n",
    "    \n",
    "    # get lower bound\n",
    "    #check low limit first\n",
    "    low_costs = original_costs[:]\n",
    "    low_costs[i] = low_check[i]\n",
    "    lp_low = LP(costs=low_costs)\n",
    "    model_low = lp_low.run_LP(print_out=False)\n",
    "    if (lp_low.perm_df.equals(lp.perm_df)) and (lp_low.em_df.equals(lp.em_df)):\n",
    "        lower_bounds.append(0)\n",
    "    else:\n",
    "        step = step_size(original_costs[i])\n",
    "        while True:\n",
    "            # change value of variable\n",
    "            costs_l[i] -= step\n",
    "            # initialize new problem and solve\n",
    "            lp_l = LP(costs=costs_l)\n",
    "            model_l = lp_l.run_LP(print_out=False)\n",
    "            # check if decisions change\n",
    "            if not ((lp_l.perm_df.equals(lp.perm_df)) and (lp_l.em_df.equals(lp.em_df))):\n",
    "                lower_bounds.append(int(costs_l[i]+step))\n",
    "                break\n",
    "            \n",
    "    # get upper bound\n",
    "    #check upper limit first\n",
    "    hi_costs = original_costs[:]\n",
    "    hi_costs[i] = hi_check[i]\n",
    "    lp_hi = LP(costs=hi_costs)\n",
    "    model_hi = lp_hi.run_LP(print_out=False)\n",
    "    if (lp_hi.perm_df.equals(lp.perm_df)) and (lp_hi.em_df.equals(lp.em_df)):\n",
    "        upper_bounds.append(None)\n",
    "    else:\n",
    "        step = step_size(original_costs[i])\n",
    "        while True:\n",
    "            # change value of variable\n",
    "            costs_u[i] += step\n",
    "            # initialize new problem and solve\n",
    "            lp_u = LP(costs=costs_u)\n",
    "            model_u = lp_u.run_LP(print_out=False)\n",
    "            # check if decisions change\n",
    "            if not ((lp_u.perm_df.equals(lp.perm_df)) and (lp_u.em_df.equals(lp.em_df))):\n",
    "                upper_bounds.append(int(costs_u[i]-step))\n",
    "                break\n",
    "    \n",
    "\n",
    "range_df = pd.DataFrame({'Default Unit Cost': original_costs, 'Lower Bound':lower_bounds, 'Upper Bound':upper_bounds}, index=varlist)\n",
    "range_df"
   ]
  },
  {
   "cell_type": "code",
   "execution_count": 12,
   "metadata": {},
   "outputs": [
    {
     "ename": "OverflowError",
     "evalue": "cannot convert float infinity to integer",
     "output_type": "error",
     "traceback": [
      "\u001b[1;31m---------------------------------------------------------------------------\u001b[0m",
      "\u001b[1;31mOverflowError\u001b[0m                             Traceback (most recent call last)",
      "\u001b[1;32m<ipython-input-12-6fb909d7b67e>\u001b[0m in \u001b[0;36m<module>\u001b[1;34m()\u001b[0m\n\u001b[1;32m----> 1\u001b[1;33m \u001b[0mrange_df\u001b[0m\u001b[1;33m[\u001b[0m\u001b[1;34m'Upper Bound'\u001b[0m\u001b[1;33m]\u001b[0m \u001b[1;33m=\u001b[0m \u001b[1;33m[\u001b[0m\u001b[0mint\u001b[0m\u001b[1;33m(\u001b[0m\u001b[0mval\u001b[0m\u001b[1;33m)\u001b[0m \u001b[1;32mfor\u001b[0m \u001b[0mval\u001b[0m \u001b[1;32min\u001b[0m \u001b[0mrange_df\u001b[0m\u001b[1;33m[\u001b[0m\u001b[1;34m'Upper Bound'\u001b[0m\u001b[1;33m]\u001b[0m\u001b[1;33m]\u001b[0m\u001b[1;33m\u001b[0m\u001b[0m\n\u001b[0m\u001b[0;32m      2\u001b[0m \u001b[0mrange_df\u001b[0m\u001b[1;33m\u001b[0m\u001b[0m\n",
      "\u001b[1;31mOverflowError\u001b[0m: cannot convert float infinity to integer"
     ]
    }
   ],
   "source": [
    "range_df['Upper Bound'] = [int(val) for val in range_df['Upper Bound']]\n",
    "range_df"
   ]
  },
  {
   "cell_type": "code",
   "execution_count": 18,
   "metadata": {},
   "outputs": [
    {
     "data": {
      "text/plain": [
       "[10, 1, 40, 200000.0, 20000.0, 1]"
      ]
     },
     "execution_count": 18,
     "metadata": {},
     "output_type": "execute_result"
    }
   ],
   "source": [
    "original_costs"
   ]
  },
  {
   "cell_type": "code",
   "execution_count": 36,
   "metadata": {},
   "outputs": [
    {
     "data": {
      "text/html": [
       "<div>\n",
       "<table border=\"1\" class=\"dataframe\">\n",
       "  <thead>\n",
       "    <tr style=\"text-align: right;\">\n",
       "      <th></th>\n",
       "      <th>0</th>\n",
       "    </tr>\n",
       "  </thead>\n",
       "  <tbody>\n",
       "    <tr>\n",
       "      <th>0</th>\n",
       "      <td>1.0</td>\n",
       "    </tr>\n",
       "    <tr>\n",
       "      <th>1</th>\n",
       "      <td>2.0</td>\n",
       "    </tr>\n",
       "    <tr>\n",
       "      <th>2</th>\n",
       "      <td>nan</td>\n",
       "    </tr>\n",
       "    <tr>\n",
       "      <th>3</th>\n",
       "      <td>4.0</td>\n",
       "    </tr>\n",
       "  </tbody>\n",
       "</table>\n",
       "</div>"
      ],
      "text/plain": [
       "     0\n",
       "0  1.0\n",
       "1  2.0\n",
       "2  nan\n",
       "3  4.0"
      ]
     },
     "execution_count": 36,
     "metadata": {},
     "output_type": "execute_result"
    }
   ],
   "source": [
    "pd.DataFrame([1,2,np.nan,4], dtype=str)"
   ]
  },
  {
   "cell_type": "code",
   "execution_count": 35,
   "metadata": {},
   "outputs": [
    {
     "ename": "NameError",
     "evalue": "name 'Int64Dtype' is not defined",
     "output_type": "error",
     "traceback": [
      "\u001b[1;31m---------------------------------------------------------------------------\u001b[0m",
      "\u001b[1;31mNameError\u001b[0m                                 Traceback (most recent call last)",
      "\u001b[1;32m<ipython-input-35-f9241109e1cf>\u001b[0m in \u001b[0;36m<module>\u001b[1;34m()\u001b[0m\n\u001b[1;32m----> 1\u001b[1;33m \u001b[0marr\u001b[0m \u001b[1;33m=\u001b[0m \u001b[0mnp\u001b[0m\u001b[1;33m.\u001b[0m\u001b[0marray\u001b[0m\u001b[1;33m(\u001b[0m\u001b[1;33m[\u001b[0m\u001b[1;36m1\u001b[0m\u001b[1;33m,\u001b[0m \u001b[1;36m2\u001b[0m\u001b[1;33m,\u001b[0m \u001b[0mnp\u001b[0m\u001b[1;33m.\u001b[0m\u001b[0mnan\u001b[0m\u001b[1;33m]\u001b[0m\u001b[1;33m,\u001b[0m \u001b[0mdtype\u001b[0m\u001b[1;33m=\u001b[0m\u001b[0mInt64Dtype\u001b[0m\u001b[1;33m(\u001b[0m\u001b[1;33m)\u001b[0m\u001b[1;33m)\u001b[0m\u001b[1;33m\u001b[0m\u001b[0m\n\u001b[0m",
      "\u001b[1;31mNameError\u001b[0m: name 'Int64Dtype' is not defined"
     ]
    }
   ],
   "source": []
  },
  {
   "cell_type": "code",
   "execution_count": null,
   "metadata": {},
   "outputs": [],
   "source": []
  }
 ],
 "metadata": {
  "kernelspec": {
   "display_name": "Python 2",
   "language": "python",
   "name": "python2"
  },
  "language_info": {
   "codemirror_mode": {
    "name": "ipython",
    "version": 2
   },
   "file_extension": ".py",
   "mimetype": "text/x-python",
   "name": "python",
   "nbconvert_exporter": "python",
   "pygments_lexer": "ipython2",
   "version": "2.7.12"
  }
 },
 "nbformat": 4,
 "nbformat_minor": 2
}
