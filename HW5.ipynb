{
 "cells": [
  {
   "cell_type": "markdown",
   "metadata": {},
   "source": [
    "## ECI 249 HW \\#5\n",
    "\n",
    "Kenneth Larrieu"
   ]
  },
  {
   "cell_type": "markdown",
   "metadata": {},
   "source": [
    "### a) Formulate this problem as an optimization problem, minimizing the net expected value cost of managing the floodplain costs and damage. \n",
    "\n",
    "The optimal floodplain management options may be found by minimizing the net expected value cost for floodplain management. The next expected value cost is:\n",
    "\n",
    "$$EVC = \\sum_{i=1}^3 c_{P_{i}} X_{P_i} + \\sum_{s=1}^{5} p(s) \\left( \\sum_{j=1}^3 c_{E_{js}} X_{E_{js}} + D_s \\right)$$\n",
    "\n",
    "where \n",
    "\n",
    "$X_{P_i}$ is the number of units used for permanent floodplain management option $P_i$\n",
    "\n",
    "$c_{P_{i}}$ is the annualized unit cost of the option\n",
    "\n",
    "$p(s)$ is the probability of flow range $s$\n",
    "\n",
    "$X_{E_{js}}$ is the number of units used for emergency floodplain management option $E_{js}$ at flow range $s$\n",
    "\n",
    "$c_{E_{js}}$ is the unit cost of that option, and\n",
    "\n",
    "$D_s$ is the damage incurred by flood s given the applied floodplain management options.\n",
    "\n",
    "Thus, we want to find the vector $X_{P_i}$ of permanent option quantities and the tensor $X_{E_{js}}$ of temporary option quantities at each discharge range which minimize $EVC$, subject to the imposed bounds on values of their elements."
   ]
  },
  {
   "cell_type": "markdown",
   "metadata": {},
   "source": [
    "### b) Minimize the expected value cost of flood damage and control costs by selecting which permanent and short-term flood control measures should be undertaken.  Do this for both current conditions and with the upstream project."
   ]
  },
  {
   "cell_type": "code",
   "execution_count": 25,
   "metadata": {},
   "outputs": [],
   "source": [
    "import numpy as np\n",
    "import pandas as pd\n",
    "\n",
    "def dot(l1, l2):\n",
    "    \"\"\"Dot product between two lists\"\"\"\n",
    "    return sum([e1 * e2 for e1, e2 in zip(l1, l2)])\n",
    "\n",
    "class LP:\n",
    "    def __init__(self, *args):\n",
    "        self.q_names = ['< 5,000 cfs', '5-6,000 cfs', '6-8,000 cfs', '8-10,000 cfs', '10,000+ cfs']\n",
    "        self.q_probs = [0.8, 0.11, 0.06, 0.02, 0.01]\n",
    "        if 'upstream' in args:\n",
    "            self.q_probs = [0.9, 0.05, 0.03, 0.01, 0.01]\n",
    "        self.damage0 = [0, 2.1e6, 3e6, 4.2e6, 6e6]\n",
    "\n",
    "        self.perm_names = ['Raise Structures', 'Warning System', 'Sacrificial First Stories']\n",
    "        self.perm_costs = [10, 1, 40]\n",
    "        self.perm_lims = [1e6, 200e3, 200e3]\n",
    "        self.perm_reds = [[0, 100, 70, 60, 10], [0, 2, 3, 4, 7], [0, 100, 60, 50, 20]]\n",
    "        self.perm_reds = [[0, 200, 90, 70, 10], [0, 3, 4, 6, 10], [0, 100, 60, 50, 20]] # ***\n",
    "\n",
    "        self.em_names = ['Evacuate', 'Sandbagging', 'Heightened Levee Monitoring']\n",
    "        self.em_costs = [200e3, 20e3, 1]\n",
    "        self.em_costs = [100e3, 30e3, 1] # ***\n",
    "        self.em_lims = [1, 2, 20e3]\n",
    "        self.em_reds = [[0, 200e3, 300e3, 500e3, 1e6], [0, 1e6, 800e3, 0, 0], [0, 2, 1, 0, 0]]\n",
    "\n",
    "    def damage(self, q, perm_vector, em_vector):\n",
    "        \"\"\"\n",
    "        For flow index q and vectors for permanent option values and emergency option values,\n",
    "        return the associated damage\n",
    "        \"\"\"\n",
    "        d0 = self.damage0[q]\n",
    "        perm_red = dot(perm_vector, [self.perm_reds[option][q] for option in range(len(self.perm_names))])\n",
    "        em_red = dot(em_vector, [self.em_reds[option][q] for option in range(len(self.em_names))])\n",
    "\n",
    "        return max(d0 - perm_red - em_red, 0)\n",
    "\n",
    "    def evc(self, perm_vector, em_vector):\n",
    "        \"\"\"EVC given perm_vector and em_vector (tensor const. w discharge)\"\"\"\n",
    "        perm_cost = dot(perm_vector, self.perm_costs)\n",
    "        em_cost = dot(em_vector, self.em_costs)\n",
    "        dam_cost = dot(self.q_probs, [self.damage(q, perm_vector, em_vector) for q in range(len(self.q_names))])\n",
    "\n",
    "        return perm_cost + em_cost + dam_cost\n",
    "\n",
    "    def evc_true(self, perm_vector, em_tensor):\n",
    "        perm_cost = dot(perm_vector, self.perm_costs)\n",
    "        p_costs = 0\n",
    "        for q in range(len(self.q_names)):\n",
    "            p_costs += self.q_probs[q] * dot(self.em_costs, em_tensor[q])\n",
    "            p_costs += self.q_probs[q] * self.damage(q, perm_vector, em_tensor[q])\n",
    "        total = perm_cost + p_costs\n",
    "        return total\n",
    "    \n",
    "    def run_LP(self):\n",
    "        \n",
    "        # get optimal values of each permanent option\n",
    "        perm_vals = []\n",
    "        # for each perm choice\n",
    "        for option in range(len(self.perm_names)):\n",
    "            best_option_val = None\n",
    "            best_cost = np.inf\n",
    "            perm_vector = [0] * len(self.perm_names)\n",
    "            em_tensor = [[0] * len(self.em_names)] * len(self.q_names)\n",
    "            # iterate over possible values, save best\n",
    "            for option_val in range(int(self.perm_lims[option])+1):\n",
    "                perm_vector[option] = option_val\n",
    "                cost = self.evc_true(perm_vector, em_tensor)\n",
    "                if cost < best_cost:\n",
    "                    best_cost = cost\n",
    "                    best_option_val = option_val\n",
    "                    \n",
    "            perm_vals.append(best_option_val)\n",
    "\n",
    "        # get optimal values of each emergency option at each discharge\n",
    "        em_vals = []\n",
    "        # for each discharge\n",
    "        for q in range(len(self.q_names)):\n",
    "            # for each emergency choice\n",
    "            em_vals_q = []\n",
    "            for option in range(len(self.em_names)):\n",
    "                best_option_val = None\n",
    "                best_cost = np.inf\n",
    "                perm_vector = [0] * len(self.perm_names)\n",
    "                em_tensor = [[0] * len(self.em_names)] * len(self.q_names)\n",
    "                # iterate over possible values, save best\n",
    "                for option_val in range(int(self.em_lims[option])+1):\n",
    "                    em_tensor[q][option] = option_val\n",
    "                    cost = self.evc_true(perm_vector, em_tensor)\n",
    "                    if cost < best_cost:\n",
    "                        best_cost = cost\n",
    "                        best_option_val = option_val\n",
    "\n",
    "                em_vals_q.append(best_option_val)\n",
    "\n",
    "            em_vals.append(em_vals_q)\n",
    "        \n",
    "        self.optimal_evc = self.evc_true(perm_vals, em_vals)\n",
    "        \n",
    "        perm_df = pd.DataFrame(perm_vals, index=self.perm_names, columns=[r'$Optimal X_{P_i}$'])\n",
    "        perm_df.index.name = 'Permanent Management Option'\n",
    "        em_df = pd.DataFrame(em_vals, index=self.q_names, columns=self.em_names)\n",
    "        em_df.index.name = 'Flood Discharge Range'\n",
    "\n",
    "        return perm_df, em_df"
   ]
  },
  {
   "cell_type": "code",
   "execution_count": 26,
   "metadata": {},
   "outputs": [],
   "source": [
    "lp_1 = LP()\n",
    "perm_df, em_df = lp_1.run_LP()"
   ]
  },
  {
   "cell_type": "code",
   "execution_count": 27,
   "metadata": {},
   "outputs": [
    {
     "data": {
      "text/plain": [
       "210750.0"
      ]
     },
     "execution_count": 27,
     "metadata": {},
     "output_type": "execute_result"
    }
   ],
   "source": [
    "lp_1.evc_true([500, 0, 0], [[0, 0, 0],[0, 2, 0],[1, 2, 20e3],[1, 0, 0],[1, 0, 0]])"
   ]
  },
  {
   "cell_type": "code",
   "execution_count": 28,
   "metadata": {},
   "outputs": [
    {
     "data": {
      "text/plain": [
       "320550.0"
      ]
     },
     "execution_count": 28,
     "metadata": {},
     "output_type": "execute_result"
    }
   ],
   "source": [
    "lp_1.optimal_evc"
   ]
  },
  {
   "cell_type": "code",
   "execution_count": 29,
   "metadata": {},
   "outputs": [
    {
     "data": {
      "text/html": [
       "<div>\n",
       "<table border=\"1\" class=\"dataframe\">\n",
       "  <thead>\n",
       "    <tr style=\"text-align: right;\">\n",
       "      <th></th>\n",
       "      <th>$Optimal X_{P_i}$</th>\n",
       "    </tr>\n",
       "    <tr>\n",
       "      <th>Permanent Management Option</th>\n",
       "      <th></th>\n",
       "    </tr>\n",
       "  </thead>\n",
       "  <tbody>\n",
       "    <tr>\n",
       "      <th>Raise Structures</th>\n",
       "      <td>10500</td>\n",
       "    </tr>\n",
       "    <tr>\n",
       "      <th>Warning System</th>\n",
       "      <td>0</td>\n",
       "    </tr>\n",
       "    <tr>\n",
       "      <th>Sacrificial First Stories</th>\n",
       "      <td>0</td>\n",
       "    </tr>\n",
       "  </tbody>\n",
       "</table>\n",
       "</div>"
      ],
      "text/plain": [
       "                             $Optimal X_{P_i}$\n",
       "Permanent Management Option                   \n",
       "Raise Structures                         10500\n",
       "Warning System                               0\n",
       "Sacrificial First Stories                    0"
      ]
     },
     "execution_count": 29,
     "metadata": {},
     "output_type": "execute_result"
    }
   ],
   "source": [
    "perm_df"
   ]
  },
  {
   "cell_type": "code",
   "execution_count": 30,
   "metadata": {},
   "outputs": [
    {
     "data": {
      "text/html": [
       "<div>\n",
       "<table border=\"1\" class=\"dataframe\">\n",
       "  <thead>\n",
       "    <tr style=\"text-align: right;\">\n",
       "      <th></th>\n",
       "      <th>Evacuate</th>\n",
       "      <th>Sandbagging</th>\n",
       "      <th>Heightened Levee Monitoring</th>\n",
       "    </tr>\n",
       "    <tr>\n",
       "      <th>Flood Discharge Range</th>\n",
       "      <th></th>\n",
       "      <th></th>\n",
       "      <th></th>\n",
       "    </tr>\n",
       "  </thead>\n",
       "  <tbody>\n",
       "    <tr>\n",
       "      <th>&lt; 5,000 cfs</th>\n",
       "      <td>0</td>\n",
       "      <td>2</td>\n",
       "      <td>0</td>\n",
       "    </tr>\n",
       "    <tr>\n",
       "      <th>5-6,000 cfs</th>\n",
       "      <td>0</td>\n",
       "      <td>2</td>\n",
       "      <td>0</td>\n",
       "    </tr>\n",
       "    <tr>\n",
       "      <th>6-8,000 cfs</th>\n",
       "      <td>0</td>\n",
       "      <td>2</td>\n",
       "      <td>0</td>\n",
       "    </tr>\n",
       "    <tr>\n",
       "      <th>8-10,000 cfs</th>\n",
       "      <td>0</td>\n",
       "      <td>2</td>\n",
       "      <td>0</td>\n",
       "    </tr>\n",
       "    <tr>\n",
       "      <th>10,000+ cfs</th>\n",
       "      <td>0</td>\n",
       "      <td>2</td>\n",
       "      <td>0</td>\n",
       "    </tr>\n",
       "  </tbody>\n",
       "</table>\n",
       "</div>"
      ],
      "text/plain": [
       "                       Evacuate  Sandbagging  Heightened Levee Monitoring\n",
       "Flood Discharge Range                                                    \n",
       "< 5,000 cfs                   0            2                            0\n",
       "5-6,000 cfs                   0            2                            0\n",
       "6-8,000 cfs                   0            2                            0\n",
       "8-10,000 cfs                  0            2                            0\n",
       "10,000+ cfs                   0            2                            0"
      ]
     },
     "execution_count": 30,
     "metadata": {},
     "output_type": "execute_result"
    }
   ],
   "source": [
    "em_df"
   ]
  },
  {
   "cell_type": "code",
   "execution_count": 5,
   "metadata": {},
   "outputs": [],
   "source": [
    "# now for the upstream section\n",
    "lp_2 = LP(\"upstream\")\n",
    "perm_df, em_df = lp_2.run_LP()"
   ]
  },
  {
   "cell_type": "code",
   "execution_count": 6,
   "metadata": {},
   "outputs": [
    {
     "data": {
      "text/html": [
       "<div>\n",
       "<table border=\"1\" class=\"dataframe\">\n",
       "  <thead>\n",
       "    <tr style=\"text-align: right;\">\n",
       "      <th></th>\n",
       "      <th>$Optimal X_{P_i}$</th>\n",
       "    </tr>\n",
       "    <tr>\n",
       "      <th>Permanent Management Option</th>\n",
       "      <th></th>\n",
       "    </tr>\n",
       "  </thead>\n",
       "  <tbody>\n",
       "    <tr>\n",
       "      <th>Raise Structures</th>\n",
       "      <td>0</td>\n",
       "    </tr>\n",
       "    <tr>\n",
       "      <th>Warning System</th>\n",
       "      <td>0</td>\n",
       "    </tr>\n",
       "    <tr>\n",
       "      <th>Sacrificial First Stories</th>\n",
       "      <td>0</td>\n",
       "    </tr>\n",
       "  </tbody>\n",
       "</table>\n",
       "</div>"
      ],
      "text/plain": [
       "                             $Optimal X_{P_i}$\n",
       "Permanent Management Option                   \n",
       "Raise Structures                             0\n",
       "Warning System                               0\n",
       "Sacrificial First Stories                    0"
      ]
     },
     "execution_count": 6,
     "metadata": {},
     "output_type": "execute_result"
    }
   ],
   "source": [
    "perm_df"
   ]
  },
  {
   "cell_type": "code",
   "execution_count": 7,
   "metadata": {},
   "outputs": [
    {
     "data": {
      "text/html": [
       "<div>\n",
       "<table border=\"1\" class=\"dataframe\">\n",
       "  <thead>\n",
       "    <tr style=\"text-align: right;\">\n",
       "      <th></th>\n",
       "      <th>Evacuate</th>\n",
       "      <th>Sandbagging</th>\n",
       "      <th>Heightened Levee Monitoring</th>\n",
       "    </tr>\n",
       "    <tr>\n",
       "      <th>Flood Discharge Range</th>\n",
       "      <th></th>\n",
       "      <th></th>\n",
       "      <th></th>\n",
       "    </tr>\n",
       "  </thead>\n",
       "  <tbody>\n",
       "    <tr>\n",
       "      <th>&lt; 5,000 cfs</th>\n",
       "      <td>0</td>\n",
       "      <td>0</td>\n",
       "      <td>0</td>\n",
       "    </tr>\n",
       "    <tr>\n",
       "      <th>5-6,000 cfs</th>\n",
       "      <td>0</td>\n",
       "      <td>2</td>\n",
       "      <td>20000</td>\n",
       "    </tr>\n",
       "    <tr>\n",
       "      <th>6-8,000 cfs</th>\n",
       "      <td>1</td>\n",
       "      <td>2</td>\n",
       "      <td>0</td>\n",
       "    </tr>\n",
       "    <tr>\n",
       "      <th>8-10,000 cfs</th>\n",
       "      <td>1</td>\n",
       "      <td>0</td>\n",
       "      <td>0</td>\n",
       "    </tr>\n",
       "    <tr>\n",
       "      <th>10,000+ cfs</th>\n",
       "      <td>1</td>\n",
       "      <td>0</td>\n",
       "      <td>0</td>\n",
       "    </tr>\n",
       "  </tbody>\n",
       "</table>\n",
       "</div>"
      ],
      "text/plain": [
       "                       Evacuate  Sandbagging  Heightened Levee Monitoring\n",
       "Flood Discharge Range                                                    \n",
       "< 5,000 cfs                   0            0                            0\n",
       "5-6,000 cfs                   0            2                        20000\n",
       "6-8,000 cfs                   1            2                            0\n",
       "8-10,000 cfs                  1            0                            0\n",
       "10,000+ cfs                   1            0                            0"
      ]
     },
     "execution_count": 7,
     "metadata": {},
     "output_type": "execute_result"
    }
   ],
   "source": [
    "em_df"
   ]
  },
  {
   "cell_type": "markdown",
   "metadata": {},
   "source": [
    "### c) What is the value of the upstream project, in terms of flood damage reduction?\n",
    "\n",
    "Optimal EVC for downstream - optimal EVC for upstream"
   ]
  },
  {
   "cell_type": "markdown",
   "metadata": {},
   "source": [
    "### d) For each used and unused decision, what would be the range of unit costs for which these optimized decisions would not change?  Present this as a table.\n",
    "\n",
    "asdf"
   ]
  }
 ],
 "metadata": {
  "kernelspec": {
   "display_name": "Python 2",
   "language": "python",
   "name": "python2"
  },
  "language_info": {
   "codemirror_mode": {
    "name": "ipython",
    "version": 2
   },
   "file_extension": ".py",
   "mimetype": "text/x-python",
   "name": "python",
   "nbconvert_exporter": "python",
   "pygments_lexer": "ipython2",
   "version": "2.7.12"
  }
 },
 "nbformat": 4,
 "nbformat_minor": 2
}
