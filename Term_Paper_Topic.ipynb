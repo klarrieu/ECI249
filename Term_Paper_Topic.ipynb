{
 "cells": [
  {
   "cell_type": "markdown",
   "metadata": {},
   "source": [
    "# ECI 249 Term Paper Topic\n",
    "\n",
    "Kenneth Larrieu\n",
    "\n",
    "\n",
    "Many factors must be considered for salmon habitat restoration in rivers. Software is currently being developed for assessing different restoration options. The RiverArchitect software described in Schwindt et al. (2019) estimates the cost of different restoration projects, the spatial distribution of stage-dependent salmon habitat suitability throughout the modeled area, as well as the expected lifespan of the habitat areas (as they are subject to change via morphodynamic processes). One of the parameters used that may have uncertainty is the critical Shields stress for sediment mobilization $(\\tau^*_{cr})$. My proposal is as follows:\n",
    "\n",
    "For a given river reach, assume a constant discharge $Q$ during the salmon spawning season.\n",
    "\n",
    "Also assume that the critical Shields stress has a distribution $f_{\\tau^*_{cr}}(\\tau^*_{cr})$, with mean $0.047$ and standard deviation $\\sim0.02$ (Lamb et al., 2008).\n",
    "\n",
    "For each cell in the modeled reach, there is an associated habitat suitability index $HSI(D_{50}, Q)$ and expected habitat lifespan $L(D_{50}, \\tau^*_{cr}, Q)$.\n",
    "\n",
    "Then we may reasonably want to maximize the product $HSI \\cdot L$. Thus, for each cell we can compute the expected value of this product:\n",
    "\n",
    "$$\\mathbb{E}[HSI \\cdot L] = \\int_{0}^{\\infty} f_{\\tau^*_{cr}}(\\tau^*_{cr}) HSI(D_{50}, Q) \\cdot L(D_{50}, \\tau^*_{cr}, Q)  \\, d\\tau^*_{cr}$$\n",
    "\n",
    "This function could be summed across all cells to characterize the amount of suitable area, weighted by its degree of suitability and the time over which it persists. It can be optimized by varying $D_{50}$ to maximize the quantity:\n",
    "\n",
    "$$\\text{max}_{D_{50}} \\left[\\sum_{area} \\mathbb{E}[HSI \\cdot L]\\right]$$\n",
    "\n",
    "Where $D_{50}$ might be controlled via sediment replenishment. There are two competing factors here, because as $D_{50}$ increases, $\\tau^*$ is more likely to be below the critical value $\\tau^*_{cr}$, thus increasing habitat lifespan. However, if the $D_{50}$ is too large, then it will not provide suitable habitat.\n",
    "\n",
    "This problem could also be extended by assuming variability of $Q$, or by incorporating a cost function associated with the value of $D_{50}$ and maximizing the suitable area per unit cost."
   ]
  },
  {
   "cell_type": "markdown",
   "metadata": {},
   "source": [
    "## References\n",
    "\n",
    "Schwindt, S., Pasternack, G. B., Bratovich, P. M., Rabone, G., & Simodynes, D. (2019). Hydro-morphological parameters generate lifespan maps for stream restoration management. Journal of Environmental Management, 232, 475–489. https://doi.org/10.1016/J.JENVMAN.2018.11.010\n",
    "\n",
    "Lamb, M. P., Dietrich, W. E., & Venditti, J. G. (2008). Is the critical Shields stress for incipient sediment motion dependent on channel-bed slope? Journal of Geophysical Research: Earth Surface, 113(F2). https://doi.org/10.1029/2007JF000831"
   ]
  }
 ],
 "metadata": {
  "kernelspec": {
   "display_name": "Python 2",
   "language": "python",
   "name": "python2"
  },
  "language_info": {
   "codemirror_mode": {
    "name": "ipython",
    "version": 2
   },
   "file_extension": ".py",
   "mimetype": "text/x-python",
   "name": "python",
   "nbconvert_exporter": "python",
   "pygments_lexer": "ipython2",
   "version": "2.7.12"
  }
 },
 "nbformat": 4,
 "nbformat_minor": 2
}
